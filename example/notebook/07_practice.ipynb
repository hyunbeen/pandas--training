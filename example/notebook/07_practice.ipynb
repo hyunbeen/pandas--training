{
 "cells": [
  {
   "cell_type": "markdown",
   "metadata": {},
   "source": [
    "# 1개의 열만 고정하고 나머지 열을 행으로 바꾸기"
   ]
  },
  {
   "cell_type": "code",
   "execution_count": 1,
   "metadata": {},
   "outputs": [
    {
     "name": "stdout",
     "output_type": "stream",
     "text": [
      "             religion  <$10k  $10-20k  $20-30k  $30-40k  $40-50k  $50-75k  \\\n",
      "0            Agnostic     27       34       60       81       76      137   \n",
      "1             Atheist     12       27       37       52       35       70   \n",
      "2            Buddhist     27       21       30       34       33       58   \n",
      "3            Catholic    418      617      732      670      638     1116   \n",
      "4  Don’t know/refused     15       14       15       11       10       35   \n",
      "\n",
      "   $75-100k  $100-150k  >150k  Don't know/refused  \n",
      "0       122        109     84                  96  \n",
      "1        73         59     74                  76  \n",
      "2        62         39     53                  54  \n",
      "3       949        792    633                1489  \n",
      "4        21         17     18                 116  \n"
     ]
    }
   ],
   "source": [
    "import pandas as pd\n",
    "pew = pd.read_csv('../data/pew.csv')\n",
    "print(pew.head())"
   ]
  },
  {
   "cell_type": "code",
   "execution_count": 2,
   "metadata": {},
   "outputs": [
    {
     "name": "stdout",
     "output_type": "stream",
     "text": [
      "<bound method DataFrame.melt of                    religion  <$10k  $10-20k  $20-30k  $30-40k  $40-50k  \\\n",
      "0                  Agnostic     27       34       60       81       76   \n",
      "1                   Atheist     12       27       37       52       35   \n",
      "2                  Buddhist     27       21       30       34       33   \n",
      "3                  Catholic    418      617      732      670      638   \n",
      "4        Don’t know/refused     15       14       15       11       10   \n",
      "5          Evangelical Prot    575      869     1064      982      881   \n",
      "6                     Hindu      1        9        7        9       11   \n",
      "7   Historically Black Prot    228      244      236      238      197   \n",
      "8         Jehovah's Witness     20       27       24       24       21   \n",
      "9                    Jewish     19       19       25       25       30   \n",
      "10            Mainline Prot    289      495      619      655      651   \n",
      "11                   Mormon     29       40       48       51       56   \n",
      "12                   Muslim      6        7        9       10        9   \n",
      "13                 Orthodox     13       17       23       32       32   \n",
      "14          Other Christian      9        7       11       13       13   \n",
      "15             Other Faiths     20       33       40       46       49   \n",
      "16    Other World Religions      5        2        3        4        2   \n",
      "17             Unaffiliated    217      299      374      365      341   \n",
      "\n",
      "    $50-75k  $75-100k  $100-150k  >150k  Don't know/refused  \n",
      "0       137       122        109     84                  96  \n",
      "1        70        73         59     74                  76  \n",
      "2        58        62         39     53                  54  \n",
      "3      1116       949        792    633                1489  \n",
      "4        35        21         17     18                 116  \n",
      "5      1486       949        723    414                1529  \n",
      "6        34        47         48     54                  37  \n",
      "7       223       131         81     78                 339  \n",
      "8        30        15         11      6                  37  \n",
      "9        95        69         87    151                 162  \n",
      "10     1107       939        753    634                1328  \n",
      "11      112        85         49     42                  69  \n",
      "12       23        16          8      6                  22  \n",
      "13       47        38         42     46                  73  \n",
      "14       14        18         14     12                  18  \n",
      "15       63        46         40     41                  71  \n",
      "16        7         3          4      4                   8  \n",
      "17      528       407        321    258                 597  >\n"
     ]
    }
   ],
   "source": [
    "test=pd.melt"
   ]
  },
  {
   "cell_type": "code",
   "execution_count": 3,
   "metadata": {},
   "outputs": [],
   "source": [
    "import pandas as pd"
   ]
  },
  {
   "cell_type": "code",
   "execution_count": 4,
   "metadata": {},
   "outputs": [],
   "source": [
    "pew=pd.read_csv('../data/pew.csv')"
   ]
  },
  {
   "cell_type": "code",
   "execution_count": 5,
   "metadata": {},
   "outputs": [
    {
     "name": "stdout",
     "output_type": "stream",
     "text": [
      "             religion  <$10k  $10-20k  $20-30k  $30-40k  $40-50k  $50-75k  \\\n",
      "0            Agnostic     27       34       60       81       76      137   \n",
      "1             Atheist     12       27       37       52       35       70   \n",
      "2            Buddhist     27       21       30       34       33       58   \n",
      "3            Catholic    418      617      732      670      638     1116   \n",
      "4  Don’t know/refused     15       14       15       11       10       35   \n",
      "\n",
      "   $75-100k  $100-150k  >150k  Don't know/refused  \n",
      "0       122        109     84                  96  \n",
      "1        73         59     74                  76  \n",
      "2        62         39     53                  54  \n",
      "3       949        792    633                1489  \n",
      "4        21         17     18                 116  \n"
     ]
    }
   ],
   "source": [
    "print(pew.head(1000))"
   ]
  },
  {
   "cell_type": "code",
   "execution_count": 6,
   "metadata": {},
   "outputs": [
    {
     "name": "stdout",
     "output_type": "stream",
     "text": [
      "                  religion            variable  value\n",
      "0                 Agnostic               <$10k     27\n",
      "1                  Atheist               <$10k     12\n",
      "2                 Buddhist               <$10k     27\n",
      "3                 Catholic               <$10k    418\n",
      "4       Don’t know/refused               <$10k     15\n",
      "..                     ...                 ...    ...\n",
      "175               Orthodox  Don't know/refused     73\n",
      "176        Other Christian  Don't know/refused     18\n",
      "177           Other Faiths  Don't know/refused     71\n",
      "178  Other World Religions  Don't know/refused      8\n",
      "179           Unaffiliated  Don't know/refused    597\n",
      "\n",
      "[180 rows x 3 columns]\n"
     ]
    }
   ],
   "source": [
    "pew_long = pd.melt(pew, id_vars='religion')\n",
    "print(pew_long.head(1000))"
   ]
  },
  {
   "cell_type": "code",
   "execution_count": 9,
   "metadata": {
    "scrolled": true
   },
   "outputs": [
    {
     "name": "stdout",
     "output_type": "stream",
     "text": [
      "     year            artist                    track  time date.entered  wk1  \\\n",
      "0    2000             2 Pac  Baby Don't Cry (Keep...  4:22   2000-02-26   87   \n",
      "1    2000           2Ge+her  The Hardest Part Of ...  3:15   2000-09-02   91   \n",
      "2    2000      3 Doors Down               Kryptonite  3:53   2000-04-08   81   \n",
      "3    2000      3 Doors Down                    Loser  4:24   2000-10-21   76   \n",
      "4    2000          504 Boyz            Wobble Wobble  3:35   2000-04-15   57   \n",
      "..    ...               ...                      ...   ...          ...  ...   \n",
      "312  2000       Yankee Grey     Another Nine Minutes  3:10   2000-04-29   86   \n",
      "313  2000  Yearwood, Trisha          Real Live Woman  3:55   2000-04-01   85   \n",
      "314  2000   Ying Yang Twins  Whistle While You Tw...  4:19   2000-03-18   95   \n",
      "315  2000     Zombie Nation            Kernkraft 400  3:30   2000-09-02   99   \n",
      "316  2000   matchbox twenty                     Bent  4:12   2000-04-29   60   \n",
      "\n",
      "      wk2   wk3   wk4   wk5  ...  wk67  wk68  wk69  wk70  wk71  wk72  wk73  \\\n",
      "0    82.0  72.0  77.0  87.0  ...   NaN   NaN   NaN   NaN   NaN   NaN   NaN   \n",
      "1    87.0  92.0   NaN   NaN  ...   NaN   NaN   NaN   NaN   NaN   NaN   NaN   \n",
      "2    70.0  68.0  67.0  66.0  ...   NaN   NaN   NaN   NaN   NaN   NaN   NaN   \n",
      "3    76.0  72.0  69.0  67.0  ...   NaN   NaN   NaN   NaN   NaN   NaN   NaN   \n",
      "4    34.0  25.0  17.0  17.0  ...   NaN   NaN   NaN   NaN   NaN   NaN   NaN   \n",
      "..    ...   ...   ...   ...  ...   ...   ...   ...   ...   ...   ...   ...   \n",
      "312  83.0  77.0  74.0  83.0  ...   NaN   NaN   NaN   NaN   NaN   NaN   NaN   \n",
      "313  83.0  83.0  82.0  81.0  ...   NaN   NaN   NaN   NaN   NaN   NaN   NaN   \n",
      "314  94.0  91.0  85.0  84.0  ...   NaN   NaN   NaN   NaN   NaN   NaN   NaN   \n",
      "315  99.0   NaN   NaN   NaN  ...   NaN   NaN   NaN   NaN   NaN   NaN   NaN   \n",
      "316  37.0  29.0  24.0  22.0  ...   NaN   NaN   NaN   NaN   NaN   NaN   NaN   \n",
      "\n",
      "     wk74  wk75  wk76  \n",
      "0     NaN   NaN   NaN  \n",
      "1     NaN   NaN   NaN  \n",
      "2     NaN   NaN   NaN  \n",
      "3     NaN   NaN   NaN  \n",
      "4     NaN   NaN   NaN  \n",
      "..    ...   ...   ...  \n",
      "312   NaN   NaN   NaN  \n",
      "313   NaN   NaN   NaN  \n",
      "314   NaN   NaN   NaN  \n",
      "315   NaN   NaN   NaN  \n",
      "316   NaN   NaN   NaN  \n",
      "\n",
      "[317 rows x 81 columns]\n"
     ]
    }
   ],
   "source": [
    "billboard = pd.read_csv('../data/billboard.csv')\n",
    "print(billboard.head(1000))"
   ]
  },
  {
   "cell_type": "code",
   "execution_count": 10,
   "metadata": {},
   "outputs": [
    {
     "name": "stdout",
     "output_type": "stream",
     "text": [
      "Index(['Date', 'Day', 'Cases_Guinea', 'Cases_Liberia', 'Cases_SierraLeone',\n",
      "       'Cases_Nigeria', 'Cases_Senegal', 'Cases_UnitedStates', 'Cases_Spain',\n",
      "       'Cases_Mali', 'Deaths_Guinea', 'Deaths_Liberia', 'Deaths_SierraLeone',\n",
      "       'Deaths_Nigeria', 'Deaths_Senegal', 'Deaths_UnitedStates',\n",
      "       'Deaths_Spain', 'Deaths_Mali'],\n",
      "      dtype='object')\n"
     ]
    }
   ],
   "source": [
    "ebola = pd.read_csv('../data/country_timeseries.csv')\n",
    "print(ebola.columns)"
   ]
  },
  {
   "cell_type": "code",
   "execution_count": 11,
   "metadata": {
    "scrolled": true
   },
   "outputs": [
    {
     "name": "stdout",
     "output_type": "stream",
     "text": [
      "            Date  Day      variable   value\n",
      "0       1/5/2015  289  Cases_Guinea  2776.0\n",
      "1       1/4/2015  288  Cases_Guinea  2775.0\n",
      "2       1/3/2015  287  Cases_Guinea  2769.0\n",
      "3       1/2/2015  286  Cases_Guinea     NaN\n",
      "4     12/31/2014  284  Cases_Guinea  2730.0\n",
      "...          ...  ...           ...     ...\n",
      "1947   3/27/2014    5   Deaths_Mali     NaN\n",
      "1948   3/26/2014    4   Deaths_Mali     NaN\n",
      "1949   3/25/2014    3   Deaths_Mali     NaN\n",
      "1950   3/24/2014    2   Deaths_Mali     NaN\n",
      "1951   3/22/2014    0   Deaths_Mali     NaN\n",
      "\n",
      "[1952 rows x 4 columns]\n"
     ]
    }
   ],
   "source": [
    "ebola_long = pd.melt(ebola, id_vars=['Date', 'Day'] )\n",
    "print(ebola_long)"
   ]
  },
  {
   "cell_type": "code",
   "execution_count": 12,
   "metadata": {
    "scrolled": true
   },
   "outputs": [
    {
     "data": {
      "text/plain": [
       "['__class__',\n",
       " '__delattr__',\n",
       " '__dict__',\n",
       " '__dir__',\n",
       " '__doc__',\n",
       " '__eq__',\n",
       " '__format__',\n",
       " '__frozen',\n",
       " '__ge__',\n",
       " '__getattribute__',\n",
       " '__getitem__',\n",
       " '__gt__',\n",
       " '__hash__',\n",
       " '__init__',\n",
       " '__init_subclass__',\n",
       " '__iter__',\n",
       " '__le__',\n",
       " '__lt__',\n",
       " '__module__',\n",
       " '__ne__',\n",
       " '__new__',\n",
       " '__reduce__',\n",
       " '__reduce_ex__',\n",
       " '__repr__',\n",
       " '__setattr__',\n",
       " '__sizeof__',\n",
       " '__str__',\n",
       " '__subclasshook__',\n",
       " '__weakref__',\n",
       " '_doc_args',\n",
       " '_freeze',\n",
       " '_get_series_list',\n",
       " '_inferred_dtype',\n",
       " '_is_categorical',\n",
       " '_make_accessor',\n",
       " '_orig',\n",
       " '_parent',\n",
       " '_validate',\n",
       " '_wrap_result',\n",
       " 'capitalize',\n",
       " 'casefold',\n",
       " 'cat',\n",
       " 'center',\n",
       " 'contains',\n",
       " 'count',\n",
       " 'decode',\n",
       " 'encode',\n",
       " 'endswith',\n",
       " 'extract',\n",
       " 'extractall',\n",
       " 'find',\n",
       " 'findall',\n",
       " 'get',\n",
       " 'get_dummies',\n",
       " 'index',\n",
       " 'isalnum',\n",
       " 'isalpha',\n",
       " 'isdecimal',\n",
       " 'isdigit',\n",
       " 'islower',\n",
       " 'isnumeric',\n",
       " 'isspace',\n",
       " 'istitle',\n",
       " 'isupper',\n",
       " 'join',\n",
       " 'len',\n",
       " 'ljust',\n",
       " 'lower',\n",
       " 'lstrip',\n",
       " 'match',\n",
       " 'normalize',\n",
       " 'pad',\n",
       " 'partition',\n",
       " 'repeat',\n",
       " 'replace',\n",
       " 'rfind',\n",
       " 'rindex',\n",
       " 'rjust',\n",
       " 'rpartition',\n",
       " 'rsplit',\n",
       " 'rstrip',\n",
       " 'slice',\n",
       " 'slice_replace',\n",
       " 'split',\n",
       " 'startswith',\n",
       " 'strip',\n",
       " 'swapcase',\n",
       " 'title',\n",
       " 'translate',\n",
       " 'upper',\n",
       " 'wrap',\n",
       " 'zfill']"
      ]
     },
     "execution_count": 12,
     "metadata": {},
     "output_type": "execute_result"
    }
   ],
   "source": [
    "ebola_long.variable.str\n",
    "dir(ebola_long.variable.str)"
   ]
  },
  {
   "cell_type": "code",
   "execution_count": 15,
   "metadata": {},
   "outputs": [
    {
     "name": "stdout",
     "output_type": "stream",
     "text": [
      "0    [Cases, Guinea]\n",
      "1    [Cases, Guinea]\n",
      "2    [Cases, Guinea]\n",
      "3    [Cases, Guinea]\n",
      "4    [Cases, Guinea]\n",
      "Name: variable, dtype: object\n"
     ]
    }
   ],
   "source": [
    "variable_split = ebola_long.variable.str.split('_')\n",
    "\n",
    "print(variable_split[:5])"
   ]
  },
  {
   "cell_type": "code",
   "execution_count": null,
   "metadata": {},
   "outputs": [],
   "source": [
    "test = variable_split.str.get(0)\n",
    "test1="
   ]
  },
  {
   "cell_type": "code",
   "execution_count": null,
   "metadata": {},
   "outputs": [],
   "source": [
    "#1\n",
    "import pandas as pd\n",
    "df_gapminder = pd.read_csv('doit_pandas/data/gapminder.tsv', sep='\\t')\n",
    "df_subset = df_gapminder[['lifeExp', 'pop', 'gdpPercap']]\n",
    "print(‘1. variance:’, df_subset.var())\n",
    "print(‘2. stddev:’, df_subset.std())\n",
    "print(‘3. range:’, df_subset.max() - df_subset.min())"
   ]
  },
  {
   "cell_type": "code",
   "execution_count": null,
   "metadata": {},
   "outputs": [],
   "source": [
    "#3\n",
    "import matplotlib.pyplot as plt\n",
    "boxplot = plt.figure() \n",
    "axes1 = boxplot.add_subplot(1, 1, 1) \n",
    "axes1.boxplot( [\n",
    "     tips[tips['sex'] == 'Female']['tip'], \n",
    "     tips[tips['sex'] == 'Male']['tip']\n",
    "   ], labels=['Female', 'Male'])\n",
    "axes1.set_xlabel('Sex') \n",
    "axes1.set_ylabel('Tip') \n",
    "axes1.set_title('Boxplot of Tips by Sex')"
   ]
  },
  {
   "cell_type": "code",
   "execution_count": null,
   "metadata": {},
   "outputs": [],
   "source": [
    "#6\n",
    "import matplotlib.pyplot as plt\n",
    "import seaborn as sns\n",
    "\n",
    "facet = sns.FacetGrid(tips, col='day', hue='sex') \n",
    "facet = facet.map(plt.scatter, 'total_bill', 'tip') \n",
    "facet = facet.add_legend()"
   ]
  },
  {
   "cell_type": "markdown",
   "metadata": {},
   "source": [
    "# 2개 이상의 열을 고정하고 나머지 열을 행으로 바꾸기"
   ]
  },
  {
   "cell_type": "code",
   "execution_count": null,
   "metadata": {},
   "outputs": [],
   "source": []
  },
  {
   "cell_type": "code",
   "execution_count": null,
   "metadata": {},
   "outputs": [],
   "source": []
  },
  {
   "cell_type": "markdown",
   "metadata": {},
   "source": [
    "# ebola 데이터 집합 살펴보기"
   ]
  },
  {
   "cell_type": "code",
   "execution_count": null,
   "metadata": {
    "scrolled": true
   },
   "outputs": [],
   "source": []
  },
  {
   "cell_type": "markdown",
   "metadata": {},
   "source": [
    "# 열 이름 나누고 데이터 프레임에 추가하기"
   ]
  },
  {
   "cell_type": "code",
   "execution_count": null,
   "metadata": {},
   "outputs": [],
   "source": []
  },
  {
   "cell_type": "markdown",
   "metadata": {},
   "source": [
    "# concat 메서드를 응용하여 데이터프레임에 열 추가하기"
   ]
  },
  {
   "cell_type": "code",
   "execution_count": null,
   "metadata": {},
   "outputs": [],
   "source": []
  },
  {
   "cell_type": "markdown",
   "metadata": {},
   "source": [
    "# 기상 데이터의 여러 열을 하나로 정리하기"
   ]
  },
  {
   "cell_type": "code",
   "execution_count": null,
   "metadata": {},
   "outputs": [],
   "source": []
  },
  {
   "cell_type": "markdown",
   "metadata": {},
   "source": [
    "# 빌보드 차트의 중복 데이터 처리하기"
   ]
  },
  {
   "cell_type": "code",
   "execution_count": null,
   "metadata": {},
   "outputs": [],
   "source": []
  },
  {
   "cell_type": "markdown",
   "metadata": {},
   "source": [
    "# 뉴욕 택시 데이터 준비"
   ]
  },
  {
   "cell_type": "code",
   "execution_count": null,
   "metadata": {},
   "outputs": [],
   "source": []
  },
  {
   "cell_type": "markdown",
   "metadata": {},
   "source": [
    "# 반복문으로 데이터 준비하기"
   ]
  },
  {
   "cell_type": "code",
   "execution_count": null,
   "metadata": {},
   "outputs": [],
   "source": []
  }
 ],
 "metadata": {
  "kernelspec": {
   "display_name": "Python 3",
   "language": "python",
   "name": "python3"
  },
  "language_info": {
   "codemirror_mode": {
    "name": "ipython",
    "version": 3
   },
   "file_extension": ".py",
   "mimetype": "text/x-python",
   "name": "python",
   "nbconvert_exporter": "python",
   "pygments_lexer": "ipython3",
   "version": "3.8.0"
  }
 },
 "nbformat": 4,
 "nbformat_minor": 4
}
